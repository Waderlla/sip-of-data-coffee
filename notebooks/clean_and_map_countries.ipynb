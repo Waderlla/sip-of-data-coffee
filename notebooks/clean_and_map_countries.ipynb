{
 "cells": [
  {
   "cell_type": "markdown",
   "id": "169d79ea-8f51-4e9b-b02c-76cc1629f140",
   "metadata": {},
   "source": [
    "# Country Name Cleaning and ISO Code Mapping\n",
    "\n",
    "This notebook processes a list of raw, uncleaned country names from a survey dataset.  \n",
    "The goal is to:\n",
    "1. Match each entry to its official English country name,\n",
    "2. Identify any unrecognized entries for manual correction,\n",
    "3. Automatically assign ISO Alpha-2 codes (2-letter country codes).\n",
    "\n",
    "\n",
    "## Step 1: Load raw list of unique countries\n",
    "\n",
    "We load the CSV exported from Excel (`unique_countries.csv`) that contains only the raw, uncleaned country names."
   ]
  },
  {
   "cell_type": "code",
   "execution_count": 3,
   "id": "245ca8e6-e9ff-46eb-9b05-d533c8707596",
   "metadata": {},
   "outputs": [
    {
     "data": {
      "text/html": [
       "<div>\n",
       "<style scoped>\n",
       "    .dataframe tbody tr th:only-of-type {\n",
       "        vertical-align: middle;\n",
       "    }\n",
       "\n",
       "    .dataframe tbody tr th {\n",
       "        vertical-align: top;\n",
       "    }\n",
       "\n",
       "    .dataframe thead th {\n",
       "        text-align: right;\n",
       "    }\n",
       "</style>\n",
       "<table border=\"1\" class=\"dataframe\">\n",
       "  <thead>\n",
       "    <tr style=\"text-align: right;\">\n",
       "      <th></th>\n",
       "      <th>Raw Country</th>\n",
       "    </tr>\n",
       "  </thead>\n",
       "  <tbody>\n",
       "    <tr>\n",
       "      <th>0</th>\n",
       "      <td>the States</td>\n",
       "    </tr>\n",
       "    <tr>\n",
       "      <th>1</th>\n",
       "      <td>UK</td>\n",
       "    </tr>\n",
       "    <tr>\n",
       "      <th>2</th>\n",
       "      <td>holland</td>\n",
       "    </tr>\n",
       "    <tr>\n",
       "      <th>3</th>\n",
       "      <td>USA</td>\n",
       "    </tr>\n",
       "    <tr>\n",
       "      <th>4</th>\n",
       "      <td>uk</td>\n",
       "    </tr>\n",
       "  </tbody>\n",
       "</table>\n",
       "</div>"
      ],
      "text/plain": [
       "  Raw Country\n",
       "0  the States\n",
       "1          UK\n",
       "2     holland\n",
       "3         USA\n",
       "4          uk"
      ]
     },
     "execution_count": 3,
     "metadata": {},
     "output_type": "execute_result"
    }
   ],
   "source": [
    "# Import required libraries\n",
    "import pandas as pd\n",
    "import pycountry\n",
    "\n",
    "# Load CSV with the list of raw, uncleaned country names\n",
    "df = pd.read_csv('unique_countries.csv')\n",
    "df.head()  # preview the first rows\n"
   ]
  },
  {
   "cell_type": "markdown",
   "id": "b780c66b-3a28-4132-9210-7d8f5136cdd9",
   "metadata": {},
   "source": [
    "## Step 2: Generate initial country mapping\n",
    "\n",
    "We use the `pycountry` library to:\n",
    "- Try to match each raw entry to its official English country name,\n",
    "- Generate an initial ISO Alpha-2 code where possible,\n",
    "- Mark any unrecognized entries as `\"Unknown\"` for later manual review.\n",
    "\n",
    "The result is saved as `country_mapping.csv`, which we will manually review in the next step."
   ]
  },
  {
   "cell_type": "code",
   "execution_count": 4,
   "id": "2f0f57b7-bd93-46e6-b2fc-3ebbf1b9b68c",
   "metadata": {},
   "outputs": [
    {
     "name": "stdout",
     "output_type": "stream",
     "text": [
      "Step 2 complete: country_mapping.csv created.\n"
     ]
    }
   ],
   "source": [
    "# Function to match each country name to its official name and ISO code\n",
    "def get_country_info(name):\n",
    "    try:\n",
    "        country = pycountry.countries.lookup(name)\n",
    "        return country.name, country.alpha_2\n",
    "    except LookupError:\n",
    "        return \"Unknown\", \"Unknown\"\n",
    "\n",
    "# Apply the function and create new columns\n",
    "df[['Cleaned Country', 'ISO Code']] = df['Raw Country'].apply(\n",
    "    lambda x: pd.Series(get_country_info(str(x)))\n",
    ")\n",
    "\n",
    "# Save the mapping table\n",
    "df.to_csv('country_mapping.csv', index=False)\n",
    "print(\"Step 2 complete: country_mapping.csv created.\")\n"
   ]
  },
  {
   "cell_type": "markdown",
   "id": "77ba7133-d67a-446d-a37d-5ddc553c4b95",
   "metadata": {},
   "source": [
    "## Step 3: Manual correction of country names\n",
    "\n",
    "Some entries may remain as `\"Unknown\"` because `pycountry` could not recognize them  \n",
    "(e.g., due to slang, typos, or uncommon labels like `\"maple land\"` or `\"ooo south africa!\"`).\n",
    "\n",
    "At this stage:\n",
    "1. Open `country_mapping.csv` in Excel,\n",
    "2. Correct `\"Unknown\"` entries by replacing them with official English country names,\n",
    "3. Save the corrected file (keep the same name).\n",
    "\n",
    "\n",
    "## Step 3: Manual correction of country names\n",
    "\n",
    "Some entries may remain as `\"Unknown\"` because `pycountry` could not recognize them  \n",
    "(e.g., due to slang, typos, or uncommon labels like `\"maple land\"` or `\"ooo south africa!\"`).\n",
    "\n",
    "At this stage:\n",
    "1. Open `country_mapping.csv` in Excel,\n",
    "2. Correct `\"Unknown\"` entries by replacing them with official English country names,\n",
    "3. Save the corrected file (keep the same name)."
   ]
  },
  {
   "cell_type": "code",
   "execution_count": 6,
   "id": "d1a48dc9-f047-4613-afad-3cd46ffc42e1",
   "metadata": {},
   "outputs": [
    {
     "name": "stdout",
     "output_type": "stream",
     "text": [
      "Step 4 complete: Final mapping saved as country_mapping_final.csv (all columns kept).\n"
     ]
    }
   ],
   "source": [
    "import pandas as pd\n",
    "import pycountry\n",
    "\n",
    "# Reload the corrected mapping file (load all columns, not just selected ones)\n",
    "df = pd.read_csv('country_mapping.csv', sep=';')\n",
    "\n",
    "# Function to fetch ISO Alpha-2 code for each cleaned country name\n",
    "def get_iso_code(name):\n",
    "    try:\n",
    "        country = pycountry.countries.lookup(name)\n",
    "        return country.alpha_2\n",
    "    except LookupError:\n",
    "        return \"Unknown\"\n",
    "\n",
    "# Update ISO Code column (or create it if missing)\n",
    "df['ISO Code'] = df['Cleaned Country'].apply(get_iso_code)\n",
    "\n",
    "# Save the final cleaned mapping with all columns preserved\n",
    "df.to_csv('country_mapping_final.csv', index=False)\n",
    "print(\"Step 4 complete: Final mapping saved as country_mapping_final.csv (all columns kept).\")"
   ]
  },
  {
   "cell_type": "code",
   "execution_count": null,
   "id": "ab78ac9b-6520-4557-857b-cef64249e504",
   "metadata": {},
   "outputs": [],
   "source": []
  }
 ],
 "metadata": {
  "kernelspec": {
   "display_name": "base",
   "language": "python",
   "name": "python3"
  },
  "language_info": {
   "codemirror_mode": {
    "name": "ipython",
    "version": 3
   },
   "file_extension": ".py",
   "mimetype": "text/x-python",
   "name": "python",
   "nbconvert_exporter": "python",
   "pygments_lexer": "ipython3",
   "version": "3.13.5"
  }
 },
 "nbformat": 4,
 "nbformat_minor": 5
}
